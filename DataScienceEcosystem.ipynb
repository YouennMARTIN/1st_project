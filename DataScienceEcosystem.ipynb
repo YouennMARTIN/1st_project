{
 "cells": [
  {
   "cell_type": "markdown",
   "id": "bf456a51",
   "metadata": {},
   "source": [
    "# Data Science Tools and Ecosystem"
   ]
  },
  {
   "cell_type": "markdown",
   "id": "d7daeadb",
   "metadata": {},
   "source": [
    "## Author : Youenn MARTIN aka youyeennn"
   ]
  },
  {
   "cell_type": "markdown",
   "id": "42544462",
   "metadata": {},
   "source": [
    "In this notebook, Data Science Tools and Ecosystem are summarized"
   ]
  },
  {
   "cell_type": "markdown",
   "id": "8cee715c",
   "metadata": {},
   "source": [
    "**Objectives of this notebook** :\n",
    "*List popular programming languages\n",
    "*List most used data science libraries\n",
    "*Start programming tasks"
   ]
  },
  {
   "cell_type": "markdown",
   "id": "ff177330",
   "metadata": {},
   "source": [
    "Some of the popular languages that DStists use are :\n",
    "1. Python\n",
    "2. C++\n",
    "3. Java Script\n",
    "4. Java\n",
    "5. Scala"
   ]
  },
  {
   "cell_type": "markdown",
   "id": "f2710830",
   "metadata": {},
   "source": [
    "Some of the popular libraries that DStists use are :\n",
    "1. seaborn\n",
    "2. matplotlib\n",
    "3. pandas\n",
    "4. numpys"
   ]
  },
  {
   "cell_type": "markdown",
   "id": "1844d6ad",
   "metadata": {},
   "source": [
    "|Data Science Tools|\n",
    "-----------------------------\n",
    "|Jupyter| \n",
    "|R-Studio|\n",
    "|Spyder|"
   ]
  },
  {
   "cell_type": "markdown",
   "id": "0477c1df",
   "metadata": {},
   "source": [
    "### Below are a few examples of evaluating arithmetic expressions in Python"
   ]
  },
  {
   "cell_type": "code",
   "execution_count": 1,
   "id": "d425df20",
   "metadata": {},
   "outputs": [
    {
     "data": {
      "text/plain": [
       "17"
      ]
     },
     "execution_count": 1,
     "metadata": {},
     "output_type": "execute_result"
    }
   ],
   "source": [
    "(3*4)+5"
   ]
  },
  {
   "cell_type": "code",
   "execution_count": 2,
   "id": "c686c2c6",
   "metadata": {},
   "outputs": [
    {
     "data": {
      "text/plain": [
       "3.3333333333333335"
      ]
     },
     "execution_count": 2,
     "metadata": {},
     "output_type": "execute_result"
    }
   ],
   "source": [
    "#This will convert 200 minutes to hours by dividing by 60\n",
    "200/60"
   ]
  },
  {
   "cell_type": "markdown",
   "id": "a19935dd",
   "metadata": {},
   "source": []
  }
 ],
 "metadata": {
  "kernelspec": {
   "display_name": "Python 3 (ipykernel)",
   "language": "python",
   "name": "python3"
  },
  "language_info": {
   "codemirror_mode": {
    "name": "ipython",
    "version": 3
   },
   "file_extension": ".py",
   "mimetype": "text/x-python",
   "name": "python",
   "nbconvert_exporter": "python",
   "pygments_lexer": "ipython3",
   "version": "3.9.13"
  }
 },
 "nbformat": 4,
 "nbformat_minor": 5
}
